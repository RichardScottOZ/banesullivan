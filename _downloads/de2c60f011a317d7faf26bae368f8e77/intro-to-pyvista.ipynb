{
  "cells": [
    {
      "cell_type": "code",
      "execution_count": null,
      "metadata": {
        "collapsed": false
      },
      "outputs": [],
      "source": [
        "%matplotlib inline\nfrom pyvista import set_plot_theme\nset_plot_theme('document')"
      ]
    },
    {
      "cell_type": "markdown",
      "metadata": {},
      "source": [
        "\nIntro to PyVista\n----------------\n\nI don't have all that many posts in the gallery yet, so I thought I'd put this\nvery basic introduction to PyVista in here.\n\n`PyVista <https://www.pyvista.org>`_ is a 3D data management, visualization,\nand mesh analysis framework in Python, and yours truly is one of its creators!\nPyVista is capable of handling 3D spatial data structures with arbitrary\ngeometries. As such, it is able to represent just about any 3D spatially\nreferenced data set, geoscientific or not!\n\nIf you really want to learn more about PyVista, head over to its\n`gallery <https://docs.pyvista.org/examples/index.html>`_\n(I have created many of those examples).\n\nIn this brief demo, I'm going to load data from the\n`FORGE Geothermal Research Site <https://utahforge.com/>`_ using a companion\npackage, `omfvista <https://opengeovis.github.io/omfvista/>`_ for reading\n`Open Mining Format (OMF) <https://omf.readthedocs.io/en/latest/>`_ archives.\n\nGetting to it\n~~~~~~~~~~~~~\n\nSo what is a \"3D spatially referenced data\"?...\n\nIn PyVista, a \"mesh\" is a geometrical representation of a surface or volume\nin 3D space that can have any information associated to those locations/regions\nin space.\nWe commonly refer to any spatially referenced dataset as a mesh, so often the\ndistinction between a mesh, a grid, and a volume can get fuzzy - but that does\nnot matter in PyVista as we have worked really hard to make working with these\nspatial data structures as simple as possible.\nFor more details, check out:\n`What is a mesh? <https://docs.pyvista.org/getting-started/what-is-a-mesh.html>`_\n\nAnyways, let's look at some code and especially some 3D visualizations!\n\n\n"
      ]
    },
    {
      "cell_type": "code",
      "execution_count": null,
      "metadata": {
        "collapsed": false
      },
      "outputs": [],
      "source": [
        "import pyvista as pv\nimport omfvista\n\n# Load OMF archive as PyVista MulitBlock dataset\nproject = omfvista.download_forge_example()\nproject"
      ]
    },
    {
      "cell_type": "markdown",
      "metadata": {},
      "source": [
        "Initial Inspection\n~~~~~~~~~~~~~~~~~~\n\nNow we can go ahead and create an integrated visualization of all of the\ndata available to in the ``project`` :class:`pyvista.MultiBlock` container.\nAll we have to do is index the ``project`` container by the name of the\ndataset that we want to acess. We can then pass those meshes to the\n:class:`pyvista.Plotter`'s ``add_mesh`` method with keyword arguments for how\nwe want it displayed (e.g. color, opacity, etc.).\n\n"
      ]
    },
    {
      "cell_type": "code",
      "execution_count": null,
      "metadata": {
        "collapsed": false
      },
      "outputs": [],
      "source": [
        "p = pv.Plotter()\np.add_mesh(project[\"Site Boundary\"],\n           color=\"yellow\", render_lines_as_tubes=True)\np.add_mesh(project[\"Terrain\"],\n           texture=\"geo_aer\", opacity=0.7, lighting=False)\np.add_mesh(project[\"Opal Mound Fault\"],\n           color=\"brown\", opacity=0.7)\np.add_mesh(project[\"Negro Mag Fault\"],\n           color=\"lightblue\", opacity=0.7)\np.add_mesh(project[\"Observed Temperature\"],\n           cmap=\"coolwarm\", clim=[10,270], point_size=10,\n           render_points_as_spheres=True)\n\np.enable_anti_aliasing()\np.enable_depth_peeling()\np.camera_position = [(315661.9406719345, 4234675.528454831, 15167.291249498076),\n                     (337498.00521202036, 4260818.504034578, -1261.5688408692681),\n                     (0.2708862567924439, 0.3397398234107863, 0.9006650255615491)]\np.show()"
      ]
    },
    {
      "cell_type": "markdown",
      "metadata": {},
      "source": [
        "And just like that, we have a 3D rendering of all that data!\nIsn't PyVista awesome?!\n\n"
      ]
    },
    {
      "cell_type": "code",
      "execution_count": null,
      "metadata": {
        "collapsed": false
      },
      "outputs": [],
      "source": [
        "pv.Report(omfvista)"
      ]
    }
  ],
  "metadata": {
    "kernelspec": {
      "display_name": "Python 3",
      "language": "python",
      "name": "python3"
    },
    "language_info": {
      "codemirror_mode": {
        "name": "ipython",
        "version": 3
      },
      "file_extension": ".py",
      "mimetype": "text/x-python",
      "name": "python",
      "nbconvert_exporter": "python",
      "pygments_lexer": "ipython3",
      "version": "3.6.7"
    }
  },
  "nbformat": 4,
  "nbformat_minor": 0
}
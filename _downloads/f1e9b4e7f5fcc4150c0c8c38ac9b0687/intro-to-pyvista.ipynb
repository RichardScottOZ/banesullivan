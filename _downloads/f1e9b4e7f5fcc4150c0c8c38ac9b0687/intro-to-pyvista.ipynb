{
  "cells": [
    {
      "cell_type": "code",
      "execution_count": null,
      "metadata": {
        "collapsed": false
      },
      "outputs": [],
      "source": [
        "%matplotlib inline\nfrom pyvista import set_plot_theme\nset_plot_theme('document')"
      ]
    },
    {
      "cell_type": "markdown",
      "metadata": {},
      "source": [
        "\nIntro to PyVista\n----------------\n\nI don't have all that many posts in the gallery yet, so I thought I'd put this\nvery basic introduction to PyVista in here.\n\nPyVista is 3D mesh analysis and visualizaton library in Python. It is capable\nof handle 3D finite difference/volume spatial data strucutres with arbitrary\ngeometries. As such, it is capable of representing just about any 3D spatially\nreferenced data set.\n\nIn this brief example, I'm going to load a few example meshes, maybe create\none from scratch, and visualize them in 3D. (at the moment, this is super\nbasic - I'll get back to updating this later!).\n\nIf you really want to learn more about PyVista, head over to its\n`gallery <https://docs.pyvista.org/examples/index.html>`_\n(I have created many of those examples).\n\n\n"
      ]
    },
    {
      "cell_type": "code",
      "execution_count": null,
      "metadata": {
        "collapsed": false
      },
      "outputs": [],
      "source": [
        "# sphinx_gallery_thumbnail_number = 2\nimport pyvista as pv\nfrom pyvista import examples\n\nmesh = examples.download_st_helens()\nmesh"
      ]
    },
    {
      "cell_type": "code",
      "execution_count": null,
      "metadata": {
        "collapsed": false
      },
      "outputs": [],
      "source": [
        "mesh.plot(cpos='xy')"
      ]
    },
    {
      "cell_type": "markdown",
      "metadata": {},
      "source": [
        "Here we can apply a filter to alter the mesh: warp it by a scalar attribute,\nelevation in this case:\n\n"
      ]
    },
    {
      "cell_type": "code",
      "execution_count": null,
      "metadata": {
        "collapsed": false
      },
      "outputs": [],
      "source": [
        "topo = mesh.warp_by_scalar()\n\np = pv.Plotter()\np.add_mesh(topo)\np.show()"
      ]
    }
  ],
  "metadata": {
    "kernelspec": {
      "display_name": "Python 3",
      "language": "python",
      "name": "python3"
    },
    "language_info": {
      "codemirror_mode": {
        "name": "ipython",
        "version": 3
      },
      "file_extension": ".py",
      "mimetype": "text/x-python",
      "name": "python",
      "nbconvert_exporter": "python",
      "pygments_lexer": "ipython3",
      "version": "3.6.7"
    }
  },
  "nbformat": 4,
  "nbformat_minor": 0
}
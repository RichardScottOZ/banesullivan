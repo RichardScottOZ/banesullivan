{
  "cells": [
    {
      "cell_type": "code",
      "execution_count": null,
      "metadata": {
        "collapsed": false
      },
      "outputs": [],
      "source": [
        "%matplotlib inline\nfrom pyvista import set_plot_theme\nset_plot_theme('document')"
      ]
    },
    {
      "cell_type": "markdown",
      "metadata": {},
      "source": [
        "\nUsing PyPIstats\n---------------\n\nNot too long ago, I made a `pull request <https://github.com/hugovk/pypistats/pull/74>`_\nto `PyPIstats <https://github.com/hugovk/pypistats>`_ to be able to make Pandas\n:class:`DataFrame` objects of the download stats for any given project on PyPI.\nIt's a nifty little tool!\n\nThis example is mostly so that I can remember how to use PyPIstats and to have\na place where my favorite Python projects' stats are reported whenever my\nwebsite is automatically rebuilt.\n\nNot much to see here unless you're interested in how many downloads my favorite\nprojects are getting lately.\n\n\n"
      ]
    },
    {
      "cell_type": "code",
      "execution_count": null,
      "metadata": {
        "collapsed": false
      },
      "outputs": [],
      "source": [
        "# sphinx_gallery_thumbnail_number = 1\nimport pypistats\nimport matplotlib.pyplot as plt\n\ndef fetch_and_plot(name):\n    \"\"\"A little helper method to do it all and make it pretty.\"\"\"\n    data = pypistats.overall(name, total=True, format=\"pandas\")\n    data = data.groupby(\"category\").get_group(\"without_mirrors\").sort_values(\"date\")\n\n    data.plot(x=\"date\", y=\"downloads\", figsize=(15, 5), marker='o')\n    plt.xticks(\n        rotation=45,\n        horizontalalignment='right',\n        fontweight='light',\n        fontsize='medium',\n    )\n    plt.title(\"Downloads for {}\".format(name))\n    plt.tight_layout()\n    return plt.show()"
      ]
    },
    {
      "cell_type": "code",
      "execution_count": null,
      "metadata": {
        "collapsed": false
      },
      "outputs": [],
      "source": [
        "fetch_and_plot(\"pyvista\")"
      ]
    },
    {
      "cell_type": "code",
      "execution_count": null,
      "metadata": {
        "collapsed": false
      },
      "outputs": [],
      "source": [
        "fetch_and_plot(\"scooby\")"
      ]
    },
    {
      "cell_type": "code",
      "execution_count": null,
      "metadata": {
        "collapsed": false
      },
      "outputs": [],
      "source": [
        "fetch_and_plot(\"SimPEG\")"
      ]
    },
    {
      "cell_type": "code",
      "execution_count": null,
      "metadata": {
        "collapsed": false
      },
      "outputs": [],
      "source": [
        "fetch_and_plot(\"PVGeo\")"
      ]
    },
    {
      "cell_type": "code",
      "execution_count": null,
      "metadata": {
        "collapsed": false
      },
      "outputs": [],
      "source": [
        "fetch_and_plot(\"itkwidgets\")"
      ]
    },
    {
      "cell_type": "code",
      "execution_count": null,
      "metadata": {
        "collapsed": false
      },
      "outputs": [],
      "source": [
        "fetch_and_plot(\"gempy\")"
      ]
    },
    {
      "cell_type": "code",
      "execution_count": null,
      "metadata": {
        "collapsed": false
      },
      "outputs": [],
      "source": [
        "fetch_and_plot(\"omf\")"
      ]
    },
    {
      "cell_type": "code",
      "execution_count": null,
      "metadata": {
        "collapsed": false
      },
      "outputs": [],
      "source": [
        "fetch_and_plot(\"omfvista\")"
      ]
    }
  ],
  "metadata": {
    "kernelspec": {
      "display_name": "Python 3",
      "language": "python",
      "name": "python3"
    },
    "language_info": {
      "codemirror_mode": {
        "name": "ipython",
        "version": 3
      },
      "file_extension": ".py",
      "mimetype": "text/x-python",
      "name": "python",
      "nbconvert_exporter": "python",
      "pygments_lexer": "ipython3",
      "version": "3.6.7"
    }
  },
  "nbformat": 4,
  "nbformat_minor": 0
}
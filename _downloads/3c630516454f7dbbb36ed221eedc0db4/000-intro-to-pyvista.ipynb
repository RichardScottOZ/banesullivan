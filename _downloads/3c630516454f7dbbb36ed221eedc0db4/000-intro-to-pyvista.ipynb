{
  "cells": [
    {
      "cell_type": "code",
      "execution_count": null,
      "metadata": {
        "collapsed": false
      },
      "outputs": [],
      "source": [
        "%matplotlib inline\nfrom pyvista import set_plot_theme\nset_plot_theme('document')"
      ]
    },
    {
      "cell_type": "markdown",
      "metadata": {},
      "source": [
        "\nIntro to PyVista\n----------------\n\nI don't have all that many posts in the gallery yet, so I thought I'd put this\nvery basic introduction to PyVista in here.\n\n`PyVista <https://www.pyvista.org>`_ is a 3D data management, visualization,\nand mesh analysis framework in Python, and yours truly is one of its creators!\nPyVista is capable of handling 3D spatial data structures with arbitrary\ngeometries. As such, it is able to represent just about any 3D spatially\nreferenced data set, geoscientific or not!\n\nIf you really want to learn more about PyVista, head over to its\n`gallery <https://docs.pyvista.org/examples/index.html>`_\n(I have created many of those examples).\n\nIn this brief demo, I'm going to load some example data and demonstrate how to\nplot and filter the 3D meshes.\n\nGetting to it\n~~~~~~~~~~~~~\n\nSo what is a \"3D spatially referenced data\"?...\n\nIn PyVista, a \"mesh\" is a geometrical representation of a surface or volume\nin 3D space that can have any information associated to those locations/regions\nin space.\nWe commonly refer to any spatially referenced dataset as a mesh, so often the\ndistinction between a mesh, a grid, and a volume can get fuzzy - but that does\nnot matter in PyVista as we have worked really hard to make working with these\nspatial data structures as simple as possible.\nFor more details, check out:\n`What is a mesh? <https://docs.pyvista.org/getting-started/what-is-a-mesh.html>`_\n\nAnyways, let's look at some code and especially some 3D visualizations!\n\n\n"
      ]
    },
    {
      "cell_type": "code",
      "execution_count": null,
      "metadata": {
        "collapsed": false
      },
      "outputs": [],
      "source": [
        "import pyvista as pv\nfrom pyvista import examples\n\n# Load OMF archive as PyVista MulitBlock dataset\nmodel = examples.download_damavand_volcano()\nmodel"
      ]
    },
    {
      "cell_type": "markdown",
      "metadata": {},
      "source": [
        "Initial Inspection\n~~~~~~~~~~~~~~~~~~\n\nNow we can go ahead and create a visualization of the 3D model of the region\nsurrounding the Damavand Volcano.\nAll we have to do is pass the mesh to the :class:`pyvista.Plotter`'s\n``add_mesh`` method with keyword arguments for how we want it displayed\n(e.g. color, opacity, etc.).\n\nBelow, I define an opacity mapping and colorbar limits:\n\n"
      ]
    },
    {
      "cell_type": "code",
      "execution_count": null,
      "metadata": {
        "collapsed": false
      },
      "outputs": [],
      "source": [
        "opacity = [0, 0.75, 0, 0.75, 1.0]\nclim = [0, 100]"
      ]
    },
    {
      "cell_type": "markdown",
      "metadata": {},
      "source": [
        "Now I instantiate the ``Plotter`` and create the visualization.\n\n"
      ]
    },
    {
      "cell_type": "code",
      "execution_count": null,
      "metadata": {
        "collapsed": false
      },
      "outputs": [],
      "source": [
        "p = pv.Plotter()\np.add_volume(model, cmap=\"magma\", clim=clim,\n             opacity=opacity, opacity_unit_distance=6000,)\np.show()"
      ]
    },
    {
      "cell_type": "markdown",
      "metadata": {},
      "source": [
        "And just like that, we have a 3D rendering of all that data!\nIsn't PyVista awesome?!\n\n"
      ]
    },
    {
      "cell_type": "markdown",
      "metadata": {},
      "source": [
        "But hold on, that\u2019s a big volume! We probably don\u2019t want to volume render the\nwhole thing. So let\u2019s extract a region of interest under the volcano.\n\nThe region we will extract will be between nodes 175 and 200 on the x-axis,\nbetween nodes 105 and 132 on the y-axis, and between nodes 98 and 170 on the\nz-axis.\n\n"
      ]
    },
    {
      "cell_type": "code",
      "execution_count": null,
      "metadata": {
        "collapsed": false
      },
      "outputs": [],
      "source": [
        "voi = model.extract_subset([175, 200, 105, 132, 98, 170])\n\np = pv.Plotter()\np.add_mesh(model.outline(), color=\"k\")\np.add_mesh(voi, cmap=\"magma\")\np.show()"
      ]
    },
    {
      "cell_type": "markdown",
      "metadata": {},
      "source": [
        "Let\u2019s now volume render that region of interest!\n\n"
      ]
    },
    {
      "cell_type": "code",
      "execution_count": null,
      "metadata": {
        "collapsed": false
      },
      "outputs": [],
      "source": [
        "p = pv.Plotter()\np.add_volume(voi, cmap=\"magma\", clim=clim, opacity=opacity,\n             opacity_unit_distance=2000)\np.camera_position = [(531554.5542909054, 3944331.800171338, 26563.04809259223),\n (599088.1433822059, 3982089.287834022, -11965.14728669936),\n (0.3738545892415734, 0.244312810377319, 0.8947312427698892)]\np.show()"
      ]
    },
    {
      "cell_type": "code",
      "execution_count": null,
      "metadata": {
        "collapsed": false
      },
      "outputs": [],
      "source": [
        "pv.Report()"
      ]
    }
  ],
  "metadata": {
    "kernelspec": {
      "display_name": "Python 3",
      "language": "python",
      "name": "python3"
    },
    "language_info": {
      "codemirror_mode": {
        "name": "ipython",
        "version": 3
      },
      "file_extension": ".py",
      "mimetype": "text/x-python",
      "name": "python",
      "nbconvert_exporter": "python",
      "pygments_lexer": "ipython3",
      "version": "3.6.7"
    }
  },
  "nbformat": 4,
  "nbformat_minor": 0
}
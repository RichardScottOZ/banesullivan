{
  "cells": [
    {
      "cell_type": "code",
      "execution_count": null,
      "metadata": {
        "collapsed": false
      },
      "outputs": [],
      "source": [
        "%matplotlib inline\nfrom pyvista import set_plot_theme\nset_plot_theme('document')"
      ]
    },
    {
      "cell_type": "markdown",
      "metadata": {},
      "source": [
        "\n# Numerical Integration\n\nHere is an introduction to Numerical Integration with Python!\n"
      ]
    },
    {
      "cell_type": "code",
      "execution_count": null,
      "metadata": {
        "collapsed": false
      },
      "outputs": [],
      "source": [
        "import numpy as np\nimport matplotlib.pyplot as plt\nimport matplotlib as mpl"
      ]
    },
    {
      "cell_type": "markdown",
      "metadata": {},
      "source": [
        "Let's look at a simple function:\n\n\\begin{align}g(x) = \\sin(x)\\end{align}\n\nwhich we know the analytical integral as:\n\n\\begin{align}G(x) = - \\cos(x)\\end{align}\n\nand let's integrate that from 0 to $\\frac{5\\pi}{4}$. Analytically, this is:\n\n\\begin{align}\\int_0^{\\frac{5\\pi}{4}} g(x) \\, dx = - \\cos(x) |_0^{\\frac{5\\pi}{4}} = - \\cos(\\frac{5\\pi}{4}) + \\cos(0) = \\frac{\\sqrt{2}}{2} + 1 = 1.7071\\end{align}\n\n"
      ]
    },
    {
      "cell_type": "code",
      "execution_count": null,
      "metadata": {
        "collapsed": false
      },
      "outputs": [],
      "source": [
        "np.sqrt(2)/2 + 1"
      ]
    },
    {
      "cell_type": "markdown",
      "metadata": {},
      "source": [
        "We can visualize this as the area under the curve - which is all a numerical\nintegral is; an approximation of the area under the curve.\nTo do a numerical integration, we simply discretize our x space and then\nevaluate our function. Once we have that, we can sum the evaluation and\nmultiply by the discretization factor to yield the effective area under the\ncurve.\n\nSo let's discretize $g(x)$ into several rectangles which we can use to\nsolve for the area under this curve.\n\n"
      ]
    },
    {
      "cell_type": "code",
      "execution_count": null,
      "metadata": {
        "collapsed": false
      },
      "outputs": [],
      "source": [
        "g = lambda x: np.sin(x)\na, b = 0, 5*np.pi/4\n\ny = np.linspace(a, b)\n\ndy = np.pi/16\nyy = np.arange(a, b, dy)\n\ndef plot_rects(xx, f, delta):\n    for v in xx:\n        value = f(v)\n        if value >= 0.0:\n            loc = 0.0\n            h = value\n        else:\n            loc = value\n            h = 0 - value\n        r = mpl.patches.Rectangle((v-delta/2., loc),\n                                  width=delta, height=h,\n                                  edgecolor=\"k\", linewidth=1)\n        plt.gca().add_patch(r)\n    return\n\ndef plot_g():\n    plt.plot(y, g(y))\n    plt.plot(yy, g(yy), \"ro\")\n\n    plot_rects(yy, g, dy)\n\n    plt.xlabel(\"$x$\")\n    plt.ylabel(\"$g(x)$\")\n\nplot_g()\nplt.show()"
      ]
    },
    {
      "cell_type": "markdown",
      "metadata": {},
      "source": [
        "So now we can sum the areas of all of those rectangles to get an\napproximation of the area under the curve (the integral)\n\n"
      ]
    },
    {
      "cell_type": "code",
      "execution_count": null,
      "metadata": {
        "collapsed": false
      },
      "outputs": [],
      "source": [
        "np.sum(g(yy-(dy/2)) * dy)\n\n\n# That's not too bad considering our rectangles do not perfectly follow the\n# curve. Let's now try choosing a :math:`\\Delta x` value that will increase the\n# sampling creating finer spaced rectangles to improve our approximation.\n\ndy = np.pi/32\nyy = np.arange(a, b, dy)\n\nplt.figure(figsize=(12,4))\nplt.subplot(1,2,1)\nplot_g()\nplt.title(\"Area = {:.3f}\".format(np.sum(g(yy) * dy)))\n\nplt.subplot(1,2,2)\n\ndy = np.pi/128\nyy = np.arange(a, b, dy)\n\nplot_g()\nplt.title(\"Area = {:.3f}\".format(np.sum(g(yy) * dy)))\n\nplt.tight_layout()\nplt.show()"
      ]
    },
    {
      "cell_type": "code",
      "execution_count": null,
      "metadata": {
        "collapsed": false
      },
      "outputs": [],
      "source": [
        "np.sum(g(yy) * dy)"
      ]
    },
    {
      "cell_type": "markdown",
      "metadata": {},
      "source": [
        "Now that's much better! as we decrease the $\\Delta x$ value, we see the\napprximationm start to converge on the analtical answer for the integral.\nThe rectangles appear to be consistently overestimating the integral.\n\n## Integrating a Complex Function\n\nNow let's apply that concept to numerically integrate a more complex function\nsuch as:\n\n\\begin{align}f(x) = \\sin(\\frac{1}{x})\\end{align}\n\nfrom 0 to $2\\pi$. This allows us to really showcase where numerical\nintegration benefits as I don't even know where to begin when it comes to\nanalytically integrating that.\n\n"
      ]
    },
    {
      "cell_type": "code",
      "execution_count": null,
      "metadata": {
        "collapsed": false
      },
      "outputs": [],
      "source": [
        "f = lambda x: np.sin(1/x)"
      ]
    },
    {
      "cell_type": "markdown",
      "metadata": {},
      "source": [
        "To do so, we'll need to define a range of x values on which to evaluate the\nfunction. Let's try out a few different sets of x values to plot the values\nof $f(x)$ to gain insight into how this function behaves.\n\nFirst, let's see what happens when we plot this function at linear intervals\nbetween 0 and $2\\pi$ (note that we cannont have a division by zero, so our\nlower boound must be some small value, not 0: we'll use $10^{-9}$.\n\n"
      ]
    },
    {
      "cell_type": "code",
      "execution_count": null,
      "metadata": {
        "collapsed": false
      },
      "outputs": [],
      "source": [
        "num = 100000\nzero = 1e-9\n\n# Create an array of x values to evaluate\nx = np.linspace(zero, 2*np.pi, num)\n\n# Evaluate and plot the values\nplt.plot(x, f(x))\nplt.xlabel(\"$x$\")\nplt.ylabel(\"$f(x)$\")\nplt.show()"
      ]
    },
    {
      "cell_type": "markdown",
      "metadata": {},
      "source": [
        "Huh, that's weird. The function behaves quite different from a typical $\\sin$\nfunction and we appear to see some sort of decay - let's look into that a bit\nmore. *At what x value are we seeing a change from oscillatory behavior to\na decay?*\n\nFrom visual inspection, it looks like some value above $\\frac{1}{\\pi}$\n(0.318). Let's reevaluate the function from that x value onward.\nThen find the maximum and see what interval of $\\pi$ is causing the change\nin behavior.\n\n"
      ]
    },
    {
      "cell_type": "code",
      "execution_count": null,
      "metadata": {
        "collapsed": false
      },
      "outputs": [],
      "source": [
        "subset = np.linspace(0.3, 2*np.pi, num)\nsubset[np.argmax(f(subset))] * np.pi"
      ]
    },
    {
      "cell_type": "markdown",
      "metadata": {},
      "source": [
        "Aha! It appears that the x value of $\\frac{2}{\\pi}$ marks the start of\ndecay. This makes sense because $\\sin(1/2/\\pi) = \\sin(\\pi/2) = 1$\n\n"
      ]
    },
    {
      "cell_type": "code",
      "execution_count": null,
      "metadata": {
        "collapsed": false
      },
      "outputs": [],
      "source": [
        "plt.plot(x, f(x), label=\"$f(x)$\")\nplt.plot(2./np.pi, f(2./np.pi), 'ro', label=r\"$x=\\frac{2}{\\pi}$\")\nplt.legend()\nplt.xlabel(\"$x$\")\nplt.ylabel(\"$f(x)$\")\nplt.show()"
      ]
    },
    {
      "cell_type": "markdown",
      "metadata": {},
      "source": [
        "So now we know that have a speration point in our function - this might come\nin handy later. as we may have to treat those two regions of the function\nseparately when numerically integrating.\n\nNow, let's explore the jumbled up portion of the plot for very low x values.\nThere appears to be some high frequency oscillation between -1 and 1, but we\ncan't really tell. To do this, let's create an exponentially varying x\nspace to evaluate our function which will bring out finer sampling for lower\nvalues and see how the function behaves as x approaches zero.\n\n"
      ]
    },
    {
      "cell_type": "code",
      "execution_count": null,
      "metadata": {
        "collapsed": false
      },
      "outputs": [],
      "source": [
        "x = np.geomspace(1e-2, 2*np.pi, num)\n\nplt.plot(x, f(x))\nplt.gca().set_xscale('log')\nplt.xlabel(\"$x$\")\nplt.ylabel(\"$f(x)$\")\nplt.show()"
      ]
    },
    {
      "cell_type": "markdown",
      "metadata": {},
      "source": [
        "Now that's cool! $f(x)$ appears to have increasing frequency as x\napproaches zero. This is quite different from a normal $\\sin$ function where\nwe don't see any frequency change at all. This frequency variation will\ndefinitely pose a challenge for our numerical integration as we will need to\nmake sure we properly sample this signal without aliasing.\n\nLet's see if we can come up with an equation for capturing that frequency\nvariation as something we can use to build out our values that we will use\nfor the numerical integration.\n\nFirst, let's evaluate our function between integer changes in $\\pi$ to see\nhow $f(x)$ oscilates between -1 and 1. We know from above that the last\nvalue of 1 occurred at $\\frac{2}{\\pi}$, so let's use decreasing values from\nthere.\n\n"
      ]
    },
    {
      "cell_type": "code",
      "execution_count": null,
      "metadata": {
        "collapsed": false
      },
      "outputs": [],
      "source": [
        "f(3./np.pi)"
      ]
    },
    {
      "cell_type": "code",
      "execution_count": null,
      "metadata": {
        "collapsed": false
      },
      "outputs": [],
      "source": [
        "f(3./(2.*np.pi))"
      ]
    },
    {
      "cell_type": "code",
      "execution_count": null,
      "metadata": {
        "collapsed": false
      },
      "outputs": [],
      "source": [
        "f(2./(3*np.pi))"
      ]
    },
    {
      "cell_type": "code",
      "execution_count": null,
      "metadata": {
        "collapsed": false
      },
      "outputs": [],
      "source": [
        "f(2./(4*np.pi))"
      ]
    },
    {
      "cell_type": "code",
      "execution_count": null,
      "metadata": {
        "collapsed": false
      },
      "outputs": [],
      "source": [
        "f(2./(5*np.pi))"
      ]
    },
    {
      "cell_type": "markdown",
      "metadata": {},
      "source": [
        "So this is interesting. I'm seeing a weird pattern where $\\frac{2}{n \\pi}$\nappears to oscillate $f(x)$ between -1 and 1. Let's test this out.\n\n"
      ]
    },
    {
      "cell_type": "code",
      "execution_count": null,
      "metadata": {
        "collapsed": false
      },
      "outputs": [],
      "source": [
        "xx = lambda n: 2/(n*np.pi)\nnn = 65\nn = np.arange(1, nn)\nxn = xx(n)\n\nplt.plot(xn, f(xn), \"ro\")\nplt.plot(x, f(x))\nplt.gca().set_xscale('log')\nplt.xlabel(\"$x$\")\nplt.ylabel(\"$f(x)$\")\nplt.show()"
      ]
    },
    {
      "cell_type": "markdown",
      "metadata": {},
      "source": [
        "It appears that the equation $\\frac{2}{n \\pi}$ captures the oscilatory\nbehavior of $f(x)$ quite well! We see that it marks the minimums, maximums,\nand zero-cross points for every period of $f(x)$. This is just what we need\nto effectively integrate $f(x)$.\n\nTo start integrating this function, we simply need to sample several times\nbetween values of $n$. Doing so is as simple as bumping up the number of\nsetting a step size in ``numpy``'s ``arange`` method. Let's use a step size of\n0.25 as that will give us 4 values between each cross-over and the min/max\npoint. Let's see if that gives us a visually pleasing approximation of our\nfunction.\n\n"
      ]
    },
    {
      "cell_type": "code",
      "execution_count": null,
      "metadata": {
        "collapsed": false
      },
      "outputs": [],
      "source": [
        "def plot_f():\n    plt.gca().set_xscale('log')\n    plt.plot(x, f(x))\n    plt.plot(xn, f(xn), \"ro\")\n\n    for i, v in enumerate(xn):\n        if i == len(xn)-1:\n            continue\n        value = f(v)\n        if value >= 0.0:\n            loc = 0.0\n            h = value\n        else:\n            loc = value\n            h = 0 - value\n        delta = abs(xn[i] - xn[i+1])\n        r = mpl.patches.Rectangle((v - delta/2, loc),\n                                  width=delta, height=h,\n                                  edgecolor=\"k\", linewidth=1)\n        plt.gca().add_patch(r)\n    plt.xlabel(\"$x$\")\n    plt.ylabel(\"$f(x)$\")\n    return"
      ]
    },
    {
      "cell_type": "code",
      "execution_count": null,
      "metadata": {
        "collapsed": false
      },
      "outputs": [],
      "source": [
        "dx = 0.25\nn = np.arange(1, nn, step=dx)\nxn = xx(n)\n\nplot_f()\nplt.show()"
      ]
    },
    {
      "cell_type": "markdown",
      "metadata": {},
      "source": [
        "That looks decent, but I think we can do better. Let's try 0.1 for 10 samples\nbetween the cross overs and the min/max\n\n"
      ]
    },
    {
      "cell_type": "code",
      "execution_count": null,
      "metadata": {
        "collapsed": false
      },
      "outputs": [],
      "source": [
        "dn = 0.1\n# 1/np.pi**2\nn = np.arange(1, nn, step=dn)\nxn = xx(n)\n\nplot_f()\nplt.show()"
      ]
    },
    {
      "cell_type": "markdown",
      "metadata": {},
      "source": [
        "Now that looks pretty darn good! How about we try integrating $f(x)$ now!\nTo do so, we simply take our values and multiply by the $\\Delta x$ value\n(the rectangle widths). It's important to note here that $\\Delta x$ is not a\nconstant this time, so well need to compute an array of all of our\n$\\Delta x$ values first.\n\n"
      ]
    },
    {
      "cell_type": "code",
      "execution_count": null,
      "metadata": {
        "collapsed": false
      },
      "outputs": [],
      "source": [
        "dx = np.pi/(128*4)\nx = np.arange(2/np.pi, 2*np.pi, step=dx)\nright = np.sum(f(x) * dx)\nright"
      ]
    },
    {
      "cell_type": "markdown",
      "metadata": {},
      "source": [
        "The right side there is pretty good\n(`check with wolfram alpha <https://www.wolframalpha.com/input/?i=integrate+sin+1%2Fx+dx+from+x%3D2%2Fpi+to+2pi>`_)\n\n"
      ]
    },
    {
      "cell_type": "code",
      "execution_count": null,
      "metadata": {
        "collapsed": false
      },
      "outputs": [],
      "source": [
        "def compute_left(dn, nn=1000):\n    n = np.arange(1, nn, step=dn)\n    xn = xx(n)\n    dx = np.abs(np.diff(xn))\n    return np.sum(f(xn)[:-1] * dx)\n\nleft = compute_left(dn)\nleft"
      ]
    },
    {
      "cell_type": "markdown",
      "metadata": {},
      "source": [
        "Well that's not very good as we know the true value for the left side to be\n0.164619 `from Wolfram Alpha <https://www.wolframalpha.com/input/?i=integrate+sin+1%2Fx+dx+from+x%3D0+to+2%2Fpi+>`_.\nLet's see if incresing the discretization helps.\n\n"
      ]
    },
    {
      "cell_type": "code",
      "execution_count": null,
      "metadata": {
        "collapsed": false
      },
      "outputs": [],
      "source": [
        "left = compute_left(0.0001)\nleft"
      ]
    },
    {
      "cell_type": "code",
      "execution_count": null,
      "metadata": {
        "collapsed": false
      },
      "outputs": [],
      "source": [
        "left+right"
      ]
    },
    {
      "cell_type": "markdown",
      "metadata": {},
      "source": [
        "The full integral is known to be 2.26277 from `Wolfram Alpha <https://www.wolframalpha.com/input/?i=integrate+sin+1%2Fx+dx+from+x%3D0+to+2pi>`_\nso that's not too bad of an approximation!\n\nAnd there you have it! The integral of $\\sin(\\frac{1}{x})$ has been\nnumerically integrated!\n\n"
      ]
    }
  ],
  "metadata": {
    "kernelspec": {
      "display_name": "Python 3",
      "language": "python",
      "name": "python3"
    },
    "language_info": {
      "codemirror_mode": {
        "name": "ipython",
        "version": 3
      },
      "file_extension": ".py",
      "mimetype": "text/x-python",
      "name": "python",
      "nbconvert_exporter": "python",
      "pygments_lexer": "ipython3",
      "version": "3.7.10"
    }
  },
  "nbformat": 4,
  "nbformat_minor": 0
}